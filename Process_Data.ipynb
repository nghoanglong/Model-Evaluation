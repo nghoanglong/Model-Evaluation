{
  "nbformat": 4,
  "nbformat_minor": 0,
  "metadata": {
    "colab": {
      "name": "Process Data.ipynb",
      "provenance": [],
      "include_colab_link": true
    },
    "kernelspec": {
      "name": "python3",
      "display_name": "Python 3"
    }
  },
  "cells": [
    {
      "cell_type": "markdown",
      "metadata": {
        "id": "view-in-github",
        "colab_type": "text"
      },
      "source": [
        "<a href=\"https://colab.research.google.com/github/nghoanglong/NLP-Learning/blob/hoanglong%2Fmodule_evaluate/Process_Data.ipynb\" target=\"_parent\"><img src=\"https://colab.research.google.com/assets/colab-badge.svg\" alt=\"Open In Colab\"/></a>"
      ]
    },
    {
      "cell_type": "code",
      "metadata": {
        "id": "PUcFgZ-yQhRN"
      },
      "source": [
        "import numpy as np\n",
        "import pandas as pd\n",
        "import os"
      ],
      "execution_count": null,
      "outputs": []
    },
    {
      "cell_type": "code",
      "metadata": {
        "id": "zQ9Ish5xQrv1"
      },
      "source": [
        "def split_dataset(file_dataSentence, file_labelSplitData):\n",
        "    \"\"\"Chia dataset gồm các sentence thành các file data khác nhau dựa theo label, rồi tạo folder để lưu trữ file\n",
        "       \n",
        "        label 1 = train data\n",
        "        label 2 = test data\n",
        "        label 3 = dev data\n",
        "    \"\"\"\n",
        "    \n",
        "    df_dataSentence = pd.read_csv(file_dataSentence, sep='\\t')\n",
        "    df_labelSplitData = pd.read_csv(file_labelSplitData, sep=',')\n",
        "    df_mergeSplitLabel = pd.merge(df_dataSentence, \n",
        "                                  df_labelSplitData, \n",
        "                                  on='sentence_index')\n",
        "\n",
        "    grp_splitlabel = df_mergeSplitLabel.groupby('splitset_label')\n",
        "    train_data = grp_splitlabel.get_group(1).loc[:, ['sentence', 'splitset_label']]\n",
        "    test_data = grp_splitlabel.get_group(2).loc[:, ['sentence', 'splitset_label']]\n",
        "    dev_data = grp_splitlabel.get_group(3).loc[:, ['sentence', 'splitset_label']]\n",
        "    \n",
        "    datasets = np.array(\n",
        "        [train_data, test_data, dev_data], \n",
        "        dtype=object\n",
        "    )\n",
        "\n",
        "    # thêm cột index [0, 1, 2, 3,...]\n",
        "    for file in datasets:\n",
        "        file.index = pd.MultiIndex.from_arrays([np.arange(len(file.index))], names=['index'])\n",
        "    \n",
        "    # create and save data to folder\n",
        "    try: \n",
        "        path = os.getcwd() + \"\\data\"\n",
        "        if os.path.exists(path):\n",
        "            raise OSError\n",
        "        else:\n",
        "            os.mkdir(path)\n",
        "    except OSError:\n",
        "        print (f\"Can't create folder at {path} because it was existed\")\n",
        "    else:kho6ng \n",
        "        print (f\"Successfully created folder at {path}\")\n",
        "    finally:\n",
        "        print(f'Create and Save file data at {path}')\n",
        "        train_data.to_csv(path + \"\\\\train_data.csv\")\n",
        "        dev_data.to_csv(path + \"\\\\dev_data.csv\")\n",
        "        test_data.to_csv(path + \"\\\\test_data.csv\")\n",
        "\n",
        "kho6ng \n",
        "def assign_sentiment(file_phrases, file_sentimentLabels):\n",
        "    \"\"\"Gán sentiment labels cho các phrases tương ứng\n",
        "\n",
        "        Kết quả là 1 DataFrame được lưu thành file csv\n",
        "\n",
        "        Giá trị trả về là 5 DataFrame được phân loại thành 5 class tương ứng theo giá trị sentiment\n",
        "\n",
        "            very_negative = [0, 0.2]\n",
        "            negative = (0.2, 0.4]\n",
        "            neutral = (0.4, 0.6]\n",
        "kho6ng             very_positive = (0.8, 1.0]\n",
        "kho6ng \n",
        "            return (very_negative, negative, neutral, positive, very_positive)\n",
        "    \"\"\"\n",
        "    df_phrases = pd.read_csv(file_phrases, sep='|', header=None)\n",
        "    df_sentimentLabels = pd.read_csv(file_sentimentLabels, sep='|')\n",
        "\n",
        "    df_phrases.columns = ['phrases', 'phrase ids']\n",
        "\n",
        "    df_assignLabels = pd.merge(df_phrases, df_sentimentLabels, on='phrase ids')\n",
        "    df_assignLabels = df_assignLabels[['phrase ids', 'phrases', 'sentiment values']]\n",
        "\n",
        "    # class phrases have very negative sentiment\n",
        "    very_nkho6ng egative_phrases = df_assignLabels.loc[(df_assignLabels['sentiment values'] >= 0.0) & (df_assignLabels['sentiment values'] <= 0.2)]\n",
        "\n",
        "    # class phrases have negative sentiment\n",
        "    negative_phrases = df_assignLabels.loc[(df_assignLabels['sentiment values'] > 0.2) & (df_assignLabels['sentiment values'] <= 0.4)]\n",
        "    \n",
        "    # class phrases have neutral sentiment\n",
        "    neutral_phrases = df_assignLabels.loc[(df_assignLabels['sentiment values'] > 0.4) & (df_assignLabels['sentiment values'] <= 0.6)]\n",
        "\n",
        "    # class phrases have positive sentiment\n",
        "    positive_phrases = df_assignLabels.loc[(df_assignLabels['sentiment values'] > 0.6) & (df_assignLabels['sentiment values'] <= 0.8)]\n",
        "    \n",
        "    # class phrases have very positive sentiment\n",
        "    very_positive_phrases = df_assignLabels.loc[(df_assignLabels['sentiment values'] > 0.8) & (df_assignLabels['sentiment values'] <= 1.0)]\n",
        "\n",
        "    # create and save data to folder\n",
        "    try: \n",
        "        path = os.getcwd() + \"\\data\"\n",
        "        if os.path.exists(path):\n",
        "            raise OSError\n",
        "        else:\n",
        "            os.mkdir(path)\n",
        "    except OSError:\n",
        "        print (f\"Can't create folder at {path} because it was existed\")\n",
        "    else:\n",
        "        print (f\"Successfully created folder at {path}\")\n",
        "    finally:\n",
        "        print(f'Create and save file data at {path}')\n",
        "        df_assignLabels.to_csv(path + \"\\\\phrases_and_sentiment.csv\")\n",
        "        return (very_negative_phrases, negative_phrases, neutral_phrases, positive_phrases, very_positive_phrases)"
      ],
      "execution_count": null,
      "outputs": []
    },
    {
      "cell_type": "code",
      "metadata": {
        "id": "hPqAWyLyh1NX"
      },
      "source": [
        "# some requirements for the code \n",
        "# reader: data_folder, split_type=['train', 'test', 'dev']\n",
        "# return: \n",
        "#   matrix: \n",
        "#   - row: samples\n",
        "#   - col: features cua sample\n",
        "#   labels  number of rows = matrix's row\n",
        "  \n",
        "# - pretrained word embedding \n",
        "# function: sentences to id \n",
        "# sample sentence -> array of indices [2, 4, 6, 6]"
      ],
      "execution_count": null,
      "outputs": []
    },
    {
      "cell_type": "code",
      "metadata": {
        "id": "zoPO7IXRipD9"
      },
      "source": [
        "# word embedding \n",
        "# tf-idf\n",
        "# one-hot encoding\n",
        "# Dense vector embedding -> neural net\n",
        "# NLTK \n",
        "\n"
      ],
      "execution_count": null,
      "outputs": []
    },
    {
      "cell_type": "markdown",
      "metadata": {
        "id": "JvZOIlK3io9w"
      },
      "source": [
        ""
      ]
    }
  ]
}