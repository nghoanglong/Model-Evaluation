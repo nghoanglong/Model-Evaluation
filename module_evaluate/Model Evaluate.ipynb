{
  "nbformat": 4,
  "nbformat_minor": 0,
  "metadata": {
    "colab": {
      "name": "Model Evaluate.ipynb",
      "provenance": [],
      "authorship_tag": "ABX9TyOrM8ialV8AQe2YjcuyNIIS",
      "include_colab_link": true
    },
    "kernelspec": {
      "name": "python3",
      "display_name": "Python 3"
    }
  },
  "cells": [
    {
      "cell_type": "markdown",
      "metadata": {
        "id": "view-in-github",
        "colab_type": "text"
      },
      "source": [
        "<a href=\"https://colab.research.google.com/github/nghoanglong/NLP-Learning/blob/master/module_evaluate/Model%20Evaluate.ipynb\" target=\"_parent\"><img src=\"https://colab.research.google.com/assets/colab-badge.svg\" alt=\"Open In Colab\"/></a>"
      ]
    },
    {
      "cell_type": "code",
      "metadata": {
        "id": "htNZnTOrDAHU",
        "colab_type": "code",
        "colab": {}
      },
      "source": [
        "import numpy as np\n",
        "import numpy as np\n",
        "import matplotlib.pyplot as plt\n",
        "import pandas as pd\n",
        "import seaborn as sn\n",
        "%matplotlib inline"
      ],
      "execution_count": null,
      "outputs": []
    },
    {
      "cell_type": "code",
      "metadata": {
        "id": "wJ79nK95IEKO",
        "colab_type": "code",
        "colab": {}
      },
      "source": [
        "def visualize_evaluation(matrix, index_names=None, column_names=None, x_label=None, y_label=None, title=None):\n",
        "    _, axes = plt.subplots(1, 2, figsize = (12, 5))\n",
        "    sn.set(font_scale = 0.8)\n",
        "\n",
        "    for idx in range(len(matrix)):\n",
        "        df_matrix = pd.DataFrame(matrix[idx], index=index_names[idx], columns=column_names[idx])\n",
        "        sn.heatmap(df_matrix, annot=True, ax=axes[idx])\n",
        "        axes[idx].set_title(title[idx])\n",
        "        axes[idx].set_xlabel(x_label[idx])\n",
        "        axes[idx].set_ylabel(y_label[idx])\n",
        "    plt.tight_layout()\n",
        "    plt.show()\n",
        "\n",
        "def model_evaluate(model, test_data):\n",
        "    \"\"\"Return tuple(accuracy, ndarray([precision, recall, F1-Score], [precision, recall, F1-Score],...)\n",
        "    \n",
        "    Compute Accuracy, Precision - Recall, F1-Score for multi-class classification sử dụng confusion matrix\n",
        "\n",
        "    Default model: f(data) = label\n",
        "\n",
        "    Default test_data = numpy array([(data, label), (data, label),...])\n",
        "    \n",
        "    Visualize confusion matrix and model evaluation using matplotlib, seaborn\n",
        "    \"\"\"\n",
        "\n",
        "    # prepare data and label\n",
        "    labels = np.array([\n",
        "        (model(data), true_label) for data, true_label in test_data\n",
        "    ])\n",
        "    pred_label = labels[:, 0]\n",
        "    true_label = labels[:, 1]\n",
        "    class_names = np.unique(true_label)\n",
        "    num_classes = class_names.shape[0]\n",
        "    num_samples = true_label.shape[0]\n",
        "    \n",
        "    # confusion matrix\n",
        "    cfs_matrix = np.zeros((num_classes, num_classes))\n",
        "    for idx in range(num_samples):\n",
        "        cfs_matrix[true_label[idx], pred_label[idx]] += 1\n",
        "    \n",
        "    try:\n",
        "        # compare with confusion matrix when using sklearn libary\n",
        "        from sklearn.metrics import confusion_matrix\n",
        "        cfs_matrix_sklearn = confusion_matrix(true_label, pred_label)\n",
        "\n",
        "        if cfs_matrix.all() != cfs_matrix_sklearn.all():\n",
        "            raise Exception\n",
        "    except Exception:\n",
        "        print('Something is wrong with confusion matrix')\n",
        "        return (None, None)\n",
        "    else:\n",
        "        # calculate accuracy\n",
        "        accuracy = float(np.diagonal(cfs_matrix).sum()) / cfs_matrix.sum()\n",
        "        \n",
        "        # precision - recall, F1-score evaluate\n",
        "        evaluations_name = np.array([\n",
        "            'Precision', 'Recall', 'F1-Score'\n",
        "        ])\n",
        "        num_evaluations = evaluations_name.shape[0]\n",
        "        result_evaluate = np.empty((num_evaluations, num_classes))\n",
        "\n",
        "        for field in class_names:\n",
        "            # trường hợp mẫu = 0 -> set mẫu về = 1 để có thể thực hiện phép chia\n",
        "            precision = float(cfs_matrix[field, field]) / (1 if cfs_matrix[:, field].sum() == 0 else cfs_matrix[:, field].sum())\n",
        "            recall = float(cfs_matrix[field, field]) / (1 if cfs_matrix[field, :].sum() == 0 else cfs_matrix[field, :].sum())\n",
        "            f1_score = 2*(float(precision * recall) / (1 if precision + recall == 0 else (precision + recall)))\n",
        "            result_evaluate[:, field] = np.array([precision, recall, f1_score])\n",
        "\n",
        "        # prepare and visuzalize confusion matrix and model valuation\n",
        "        matrix_init = np.concatenate(\n",
        "            (np.array([cfs_matrix]), np.array([result_evaluate]))\n",
        "        )\n",
        "        index_names_init = np.concatenate(\n",
        "            (np.array([class_names]), np.array([evaluations_name]))\n",
        "        )\n",
        "        column_names_init = np.concatenate(\n",
        "            (np.array([class_names]), np.array([class_names]))\n",
        "        )\n",
        "        xlabel_init = np.concatenate(\n",
        "            (['Predicted Label'], [None])\n",
        "        )\n",
        "        ylabel_init = np.concatenate(\n",
        "            (['True Label'], [None])\n",
        "        )\n",
        "        title_init = np.concatenate(\n",
        "            (['Unnormalized Confusion Matrix'], ['Model Evaluation'])\n",
        "        )\n",
        "\n",
        "        visualize_evaluation(matrix_init, index_names_init, column_names_init, xlabel_init, ylabel_init, title_init)\n",
        "\n",
        "        return (accuracy, result_evaluate.T)\n",
        "    finally:\n",
        "        print('Done evaluate')"
      ],
      "execution_count": 4,
      "outputs": []
    },
    {
      "cell_type": "code",
      "metadata": {
        "id": "oSEibUTQMROH",
        "colab_type": "code",
        "colab": {
          "base_uri": "https://localhost:8080/",
          "height": 387
        },
        "outputId": "1a636e26-9fde-422c-c01e-8fd5ecfff09d"
      },
      "source": [
        "# demo trên test data\n",
        "true_label_test = np.array([\n",
        "    0, 0, 0, 0, 1, 1, 1, 2, 2, 2\n",
        "])\n",
        "pred_label_test = np.array([\n",
        "    0, 1, 0, 2, 1, 1, 0, 2, 1, 2\n",
        "])\n",
        "\n",
        "# tạo test_data là mảng các tuple [(data, label), (data, label),...]\n",
        "test_data = np.array([\n",
        "    (pred_label, true_label) for pred_label, true_label in zip(pred_label_test, true_label_test)\n",
        "])\n",
        "\n",
        "accuracy, result_predict = model_evaluate(lambda data: data, test_data)"
      ],
      "execution_count": 5,
      "outputs": [
        {
          "output_type": "display_data",
          "data": {
            "image/png": "[encoded data removed]",
            "text/plain": [
              "<Figure size 864x360 with 4 Axes>"
            ]
          },
          "metadata": {
            "tags": [],
            "needs_background": "light"
          }
        },
        {
          "output_type": "stream",
          "text": [
            "Done evaluate\n"
          ],
          "name": "stdout"
        }
      ]
    }
  ]
}