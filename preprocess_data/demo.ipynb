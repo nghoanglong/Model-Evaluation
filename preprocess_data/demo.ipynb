{
 "cells": [
  {
   "cell_type": "markdown",
   "metadata": {
    "colab_type": "text",
    "id": "view-in-github"
   },
   "source": [
    "<a href=\"https://colab.research.google.com/github/nghoanglong/NLP-Learning/blob/hoanglong%2Fmodule_evaluate/Process_Data.ipynb\" target=\"_parent\"><img src=\"https://colab.research.google.com/assets/colab-badge.svg\" alt=\"Open In Colab\"/></a>"
   ]
  },
  {
   "cell_type": "markdown",
   "metadata": {
    "id": "hPqAWyLyh1NX"
   },
   "source": [
    "## Requirements\n",
    "reader: PATH_FOLDER, split_type=['train', 'test', 'dev']\n",
    "    \n",
    "   + return: matrix\n",
    "    \n",
    "   + với matrix: row - samples dạng sentence\n",
    "    \n",
    "embedding: sentences to id\n",
    "\n",
    "   + sample sentence return array of indices [2, 4, 6, 6]"
   ]
  },
  {
   "cell_type": "markdown",
   "metadata": {
    "id": "zoPO7IXRipD9"
   },
   "source": [
    "## Knowledges\n",
    "+ Word Embedding \n",
    "    + frequency-based\n",
    "        + one-hot vector\n",
    "        + tf-idf\n",
    "        + co-occurence matrix\n",
    "    + prediction-based\n",
    "        + CBOW\n",
    "        + Skip-gram\n",
    "+ Dense vector embedding -> neural net\n",
    "+ NLTK xử lý sentence\n",
    "\n"
   ]
  }
 ],
 "metadata": {
  "colab": {
   "include_colab_link": true,
   "name": "Process Data.ipynb",
   "provenance": []
  },
  "kernelspec": {
   "display_name": "Python 3.7.7",
   "language": "python",
   "name": "python3"
  },
  "language_info": {
   "codemirror_mode": {
    "name": "ipython",
    "version": 3
   },
   "file_extension": ".py",
   "mimetype": "text/x-python",
   "name": "python",
   "nbconvert_exporter": "python",
   "pygments_lexer": "ipython3",
   "version": "3.7.7"
  }
 },
 "nbformat": 4,
 "nbformat_minor": 1
}
