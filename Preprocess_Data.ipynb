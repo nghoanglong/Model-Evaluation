{
  "nbformat": 4,
  "nbformat_minor": 0,
  "metadata": {
    "colab": {
      "name": "Preprocess Data.ipynb",
      "provenance": [],
      "collapsed_sections": [],
      "include_colab_link": true
    },
    "kernelspec": {
      "name": "python3",
      "display_name": "Python 3"
    }
  },
  "cells": [
    {
      "cell_type": "markdown",
      "metadata": {
        "id": "view-in-github",
        "colab_type": "text"
      },
      "source": [
        "<a href=\"https://colab.research.google.com/github/nghoanglong/NLP-Sentiment-Analysis/blob/master/Preprocess_Data.ipynb\" target=\"_parent\"><img src=\"https://colab.research.google.com/assets/colab-badge.svg\" alt=\"Open In Colab\"/></a>"
      ]
    },
    {
      "cell_type": "markdown",
      "metadata": {
        "id": "HgUufpHBkDI2"
      },
      "source": [
        "## Requirements\n",
        "reader: PATH_FOLDER, split_type=['train', 'test', 'dev']\n",
        "    \n",
        "   + return: matrix\n",
        "    \n",
        "   + với matrix: row - samples dạng sentence\n",
        "    \n",
        "embedding: sentences to id\n",
        "\n",
        "   + sample sentence return array of indices [2, 4, 6, 6]"
      ]
    },
    {
      "cell_type": "markdown",
      "metadata": {
        "id": "HoyvvBpwkJlK"
      },
      "source": [
        "## Knowledges\n",
        "+ Word Embedding \n",
        "    + frequency-based\n",
        "        + one-hot vector\n",
        "        + tf-idf\n",
        "        + co-occurence matrix\n",
        "    + prediction-based\n",
        "        + CBOW\n",
        "        + Skip-gram\n",
        "+ Dense vector embedding -> neural net\n",
        "+ NLTK xử lý sentence"
      ]
    },
    {
      "cell_type": "code",
      "metadata": {
        "id": "yZD_3Ue6kLEA",
        "outputId": "4e7d5a9a-9976-4620-830c-105204873fe6",
        "colab": {
          "base_uri": "https://localhost:8080/"
        }
      },
      "source": [
        "import numpy as np\n",
        "import os\n",
        "import nltk\n",
        "nltk.download('punkt')\n",
        "from nltk.tree import Tree\n",
        "from nltk.tokenize import word_tokenize\n",
        "import torch\n",
        "import torch.nn as nn"
      ],
      "execution_count": 1,
      "outputs": [
        {
          "output_type": "stream",
          "text": [
            "[nltk_data] Downloading package punkt to /root/nltk_data...\n",
            "[nltk_data]   Package punkt is already up-to-date!\n"
          ],
          "name": "stdout"
        }
      ]
    },
    {
      "cell_type": "code",
      "metadata": {
        "id": "wXU6HPC7gdGm",
        "outputId": "651819bf-8a72-499e-d31a-ae4d32897ef7",
        "colab": {
          "resources": {
            "http://localhost:8080/nbextensions/google.colab/files.js": {
              "data": "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",
              "ok": true,
              "headers": [
                [
                  "content-type",
                  "application/javascript"
                ]
              ],
              "status": 200,
              "status_text": ""
            }
          },
          "base_uri": "https://localhost:8080/",
          "height": 72
        }
      },
      "source": [
        "from google.colab import files \n",
        "uploaded = files.upload()"
      ],
      "execution_count": 2,
      "outputs": [
        {
          "output_type": "display_data",
          "data": {
            "text/html": [
              "\n",
              "     <input type=\"file\" id=\"files-b5162da1-3123-4f40-a6eb-ef5f1cd30219\" name=\"files[]\" multiple disabled\n",
              "        style=\"border:none\" />\n",
              "     <output id=\"result-b5162da1-3123-4f40-a6eb-ef5f1cd30219\">\n",
              "      Upload widget is only available when the cell has been executed in the\n",
              "      current browser session. Please rerun this cell to enable.\n",
              "      </output>\n",
              "      <script src=\"/nbextensions/google.colab/files.js\"></script> "
            ],
            "text/plain": [
              "<IPython.core.display.HTML object>"
            ]
          },
          "metadata": {
            "tags": []
          }
        },
        {
          "output_type": "stream",
          "text": [
            "Saving train.txt to train (3).txt\n"
          ],
          "name": "stdout"
        }
      ]
    },
    {
      "cell_type": "code",
      "metadata": {
        "id": "L787lZzjkOuu"
      },
      "source": [
        "class PreprocessData:\n",
        "    def __init__(self,\n",
        "                 FOLDER_PATH):\n",
        "        \"\"\"Constructor với tham số nhận vào làm FOLDER_PATH\n",
        "\n",
        "            FOLDER_PATH định dạng ví dụ: dir_current/data_set/\n",
        "        \"\"\"\n",
        "        self.folder_path = FOLDER_PATH\n",
        "        self.dataset = None\n",
        "        self.lib_tokens = None\n",
        "\n",
        "    def load_dataset(self,\n",
        "                     type_dataset,\n",
        "                     file_extension='.txt'):\n",
        "        \"\"\"Load dataset tương ứng theo type_dataset\n",
        "\n",
        "            type_dataset = [train, dev, test] | type = string\n",
        "            file_extension = .txt, .csv,... | type = string\n",
        "\n",
        "            return ndarray shape(n, 2) với\n",
        "                row = np.array[list_tokens extract from sentence, label]\n",
        "        \"\"\"\n",
        "        # try:\n",
        "        #     DATASET_REQ_PATH = self.folder_path + '/' + type_dataset + file_extension\n",
        "        #     check_exist = os.path.isfile(DATASET_REQ_PATH)\n",
        "        #     if check_exist:\n",
        "        DATASET_REQ_PATH = 'train.txt'\n",
        "        with open(DATASET_REQ_PATH, 'r') as reader:\n",
        "            self.dataset = np.array([\n",
        "                                    np.array([self.PTB_tokenize(line.rstrip(\"\\n\")),\n",
        "                                              self.PTB_get_label(line)], dtype=object)\n",
        "                                    for line in reader])\n",
        "        return self.dataset\n",
        "        #     else:\n",
        "        #         raise FileExistsError('File nay ko ton tai')\n",
        "        # except FileExistsError as err:\n",
        "        #     print(err)\n",
        "        #     return None\n",
        "\n",
        "    def PTB_get_label(self,\n",
        "                      treebank):\n",
        "        \"\"\"get label của root sentece trong PTB\n",
        "            treebank - type string\n",
        "            return label\n",
        "        \"\"\"\n",
        "        tree = Tree.fromstring(treebank)\n",
        "        return tree.label()\n",
        "\n",
        "    def PTB_tokenize(self,\n",
        "                     treebank):\n",
        "        \"\"\"Split list các token từ cây PTB\n",
        "            \n",
        "            treebank - type string\n",
        "            return array = [token, token, token,...]\n",
        "        \"\"\"\n",
        "        tree = Tree.fromstring(str(treebank))\n",
        "        return np.array(tree.leaves())\n",
        "\n",
        "    def transfrom_sentence(self,\n",
        "                           li_tokens):\n",
        "        \"\"\"Transfrom list các tokens thành 1 sentence hoàn chỉnh\n",
        "\n",
        "            li_tokens = [token, token, token,...]\n",
        "            return sentence\n",
        "        \"\"\"\n",
        "        sentence = ' '.join(li_tokens)\n",
        "        return sentence\n",
        "\n",
        "    def get_list_vocabularies(self):\n",
        "        \"\"\"Tạo một kho các tokens từ list các sentences\n",
        "\n",
        "            return dictionary{token: ids, token: ids,...}\n",
        "        \"\"\"\n",
        "        li_tokens = set()\n",
        "        for sample in self.dataset:\n",
        "            li_tokens.update(sample[0])\n",
        "        lib_tokens = dict([(token, idx)\n",
        "                           for idx, token in enumerate(li_tokens)])\n",
        "        return lib_tokens\n",
        "\n",
        "    def encode_sentence(self,\n",
        "                        sent_tokenized,\n",
        "                        li_vocabs):\n",
        "        \"\"\"Encode một sentence về dạng mỗi token tương ứng với một id trong list vocabs\n",
        "\n",
        "            sent_tokenized - sentence đã được tokenize thành list các tokens\n",
        "            li_vocabs = {token: id, token: id,...}\n",
        "            return sentence = [id, id, id, id,...]\n",
        "        \"\"\"\n",
        "\n",
        "        res_encode = np.array([li_vocabs[token] if token in li_vocabs\n",
        "                               else print('does not have token in li vocabs')\n",
        "                               for token in sent_tokenized])\n",
        "        return res_encode\n",
        "\n",
        "    def decode_sentence(self,\n",
        "                        li_vocabs):\n",
        "        pass\n"
      ],
      "execution_count": 3,
      "outputs": []
    },
    {
      "cell_type": "code",
      "metadata": {
        "id": "MB8LouuDkUGz",
        "outputId": "8d0626b5-c7a0-4387-f508-b245af053914",
        "colab": {
          "base_uri": "https://localhost:8080/"
        }
      },
      "source": [
        "data = PreprocessData('./data/trees')\n",
        "train_data = data.load_dataset('train', '.txt')\n",
        "\n",
        "li_vocabs = data.get_list_vocabularies() # lấy ra list các vocabs\n",
        "encode_li_sent = np.array([torch.tensor(data.encode_sentence(sample, li_vocabs))\n",
        "                            for sample in train_data[:, 0]],\n",
        "                          dtype=object) # encode list các sentence\n",
        "print(li_vocabs['The'])\n",
        "print(encode_li_sent)"
      ],
      "execution_count": 5,
      "outputs": [
        {
          "output_type": "stream",
          "text": [
            "5333\n",
            "[tensor([ 5333,   191, 17411,  7058,  5802,  9120, 17264,  6669, 11607, 10197,\n",
            "         3352, 14005, 11316, 13162,  2557,  6232,  1884, 10197, 16554,  5802,\n",
            "        16279, 11860, 14300,  3972, 14253,  1952, 18245,  6124,  8662,  3578,\n",
            "          832,  2352,  2520, 17991, 14924, 16139])\n",
            " tensor([ 5333,   685, 15067, 18012, 12050, 14005,  5333,  7067, 12050, 17264,\n",
            "         4589, 13162,  5873, 17411, 11451, 17428,  6232, 11860, 17708, 12050,\n",
            "         7453, 18053,  4262, 14306,  1843,  3044,  3081,  7849, 10197, 17243,\n",
            "        10482, 12050, 10561,  7941, 10197,  8891, 16139])\n",
            " tensor([12468,   411,  1453,  9380, 11860, 16153, 12050, 13299,  5035, 11860,\n",
            "          950,  6695, 14154,  8662, 11860,   950, 10181, 17388, 14900,  5802,\n",
            "        17264, 16298,  5035, 18208, 17264, 14936,  7755,  4560,  7665, 17264,\n",
            "        12674,  8662,  8323,  8662,  8541, 12050, 17264, 11486, 16139])\n",
            " ...\n",
            " tensor([ 1411,   442,  7330, 17264, 16931, 16028, 17230,  8662, 18208,  4653,\n",
            "        10197,  3596, 15612,  4724, 10153,  7761,  6232,  4215, 17264,  5684,\n",
            "        12361,  9949, 16139])\n",
            " tensor([ 6412,  9114, 13609,   493,  8861,  7453,  8149, 14005, 16972, 13162,\n",
            "         2557, 14005,  2330,  8662, 13162, 18208,  3733, 11451,   368, 13144,\n",
            "         2702, 17264,  5335,  6232,  2869,  1772, 12587,  9306, 17264, 10934,\n",
            "        17189, 16139])\n",
            " tensor([ 5282,  6948, 15157,  4566, 16139])]\n"
          ],
          "name": "stdout"
        }
      ]
    },
    {
      "cell_type": "code",
      "metadata": {
        "id": "sT3PNwdE96au",
        "outputId": "7f16eccc-5260-4563-bef0-7a060c830b22",
        "colab": {
          "base_uri": "https://localhost:8080/"
        }
      },
      "source": [
        "# pad all sentence prepare for embedding\n",
        "from torch.nn.utils.rnn import pad_sequence\n",
        "padded = pad_sequence(encode_li_sent, batch_first=True)\n",
        "print(padded)"
      ],
      "execution_count": 6,
      "outputs": [
        {
          "output_type": "stream",
          "text": [
            "tensor([[ 5333,   191, 17411,  ...,     0,     0,     0],\n",
            "        [ 5333,   685, 15067,  ...,     0,     0,     0],\n",
            "        [12468,   411,  1453,  ...,     0,     0,     0],\n",
            "        ...,\n",
            "        [ 1411,   442,  7330,  ...,     0,     0,     0],\n",
            "        [ 6412,  9114, 13609,  ...,     0,     0,     0],\n",
            "        [ 5282,  6948, 15157,  ...,     0,     0,     0]])\n"
          ],
          "name": "stdout"
        }
      ]
    }
  ]
}