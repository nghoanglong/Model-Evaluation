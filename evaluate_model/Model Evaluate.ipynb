{
 "cells": [
  {
   "cell_type": "markdown",
   "metadata": {
    "colab_type": "text",
    "id": "view-in-github"
   },
   "source": [
    "<a href=\"https://colab.research.google.com/github/nghoanglong/NLP-Learning/blob/master/module_evaluate/Model%20Evaluate.ipynb\" target=\"_parent\"><img src=\"https://colab.research.google.com/assets/colab-badge.svg\" alt=\"Open In Colab\"/></a>"
   ]
  },
  {
   "cell_type": "code",
   "execution_count": 1,
   "metadata": {
    "colab": {},
    "colab_type": "code",
    "id": "htNZnTOrDAHU"
   },
   "outputs": [],
   "source": [
    "import numpy as np\n",
    "import numpy as np\n",
    "import matplotlib.pyplot as plt\n",
    "import pandas as pd\n",
    "import seaborn as sn\n",
    "%matplotlib inline"
   ]
  },
  {
   "cell_type": "code",
   "execution_count": 2,
   "metadata": {
    "colab": {},
    "colab_type": "code",
    "id": "wJ79nK95IEKO"
   },
   "outputs": [],
   "source": [
    "def visualize_evaluation(matrix, \n",
    "                         index_names=None, \n",
    "                         column_names=None, \n",
    "                         x_label=None, \n",
    "                         y_label=None, \n",
    "                         title=None):\n",
    "    _, axes = plt.subplots(1, 2, figsize = (12, 5))\n",
    "    sn.set(font_scale = 0.8)\n",
    "\n",
    "    for idx in range(len(matrix)):\n",
    "        df_matrix = pd.DataFrame(matrix[idx], \n",
    "                                 index=index_names[idx], \n",
    "                                 columns=column_names[idx])\n",
    "        sn.heatmap(df_matrix, \n",
    "                   annot=True, \n",
    "                   ax=axes[idx])\n",
    "        \n",
    "        axes[idx].set_title(title[idx])\n",
    "        axes[idx].set_xlabel(x_label[idx])\n",
    "        axes[idx].set_ylabel(y_label[idx])\n",
    "    \n",
    "    plt.tight_layout()\n",
    "    plt.show()\n",
    "\n",
    "def model_evaluate(model, test_data):\n",
    "    \"\"\"Return tuple(accuracy, ndarray([precision, recall, F1-Score], [precision, recall, F1-Score],...)\n",
    "    \n",
    "    Compute Accuracy, Precision - Recall, F1-Score for multi-class classification sử dụng confusion matrix\n",
    "\n",
    "    Default model: f(data) = label\n",
    "\n",
    "    Default test_data = numpy array([(data, label), (data, label),...])\n",
    "    \n",
    "    Visualize confusion matrix and model evaluation using matplotlib, seaborn\n",
    "    \"\"\"\n",
    "\n",
    "    # prepare data and label\n",
    "    labels = np.array([\n",
    "        (model(data), true_label) for data, true_label in test_data\n",
    "    ])\n",
    "    pred_label = labels[:, 0]\n",
    "    true_label = labels[:, 1]\n",
    "    class_names = np.unique(true_label)\n",
    "    num_classes = class_names.shape[0]\n",
    "    num_samples = true_label.shape[0]\n",
    "    \n",
    "    # confusion matrix\n",
    "    cfs_matrix = np.zeros((num_classes, num_classes))\n",
    "    for idx in range(num_samples):\n",
    "        cfs_matrix[true_label[idx], pred_label[idx]] += 1\n",
    "    \n",
    "    try:\n",
    "        # compare with confusion matrix when using sklearn libary\n",
    "        from sklearn.metrics import confusion_matrix\n",
    "        cfs_matrix_sklearn = confusion_matrix(true_label, pred_label)\n",
    "\n",
    "        if cfs_matrix.all() != cfs_matrix_sklearn.all():\n",
    "            raise Exception\n",
    "    except Exception:\n",
    "        print('Something is wrong with confusion matrix')\n",
    "        return (None, None)\n",
    "    else:\n",
    "        # calculate accuracy\n",
    "        accuracy = float(np.diagonal(cfs_matrix).sum()) / cfs_matrix.sum()\n",
    "        \n",
    "        # precision - recall, F1-score evaluate\n",
    "        evaluations_name = np.array([\n",
    "            'Precision', 'Recall', 'F1-Score'\n",
    "        ])\n",
    "        num_evaluations = evaluations_name.shape[0]\n",
    "        result_evaluate = np.empty((num_evaluations, num_classes))\n",
    "\n",
    "        for field in class_names:\n",
    "            # trường hợp mẫu = 0 -> set mẫu về = 1 để có thể thực hiện phép chia\n",
    "            precision = float(cfs_matrix[field, field]) / (1 if cfs_matrix[:, field].sum() == 0 \n",
    "                                                             else cfs_matrix[:, field].sum())\n",
    "            recall = float(cfs_matrix[field, field]) / (1 if cfs_matrix[field, :].sum() == 0 \n",
    "                                                          else cfs_matrix[field, :].sum())\n",
    "            f1_score = 2*(float(precision * recall) / (1 if precision + recall == 0 \n",
    "                                                         else (precision + recall)))\n",
    "            result_evaluate[:, field] = np.array([precision, recall, f1_score])\n",
    "\n",
    "        # prepare and visuzalize confusion matrix and model valuation\n",
    "        matrix_init = np.concatenate(\n",
    "            (np.array([cfs_matrix]), np.array([result_evaluate]))\n",
    "        )\n",
    "        index_names_init = np.concatenate(\n",
    "            (np.array([class_names]), np.array([evaluations_name]))\n",
    "        )\n",
    "        column_names_init = np.concatenate(\n",
    "            (np.array([class_names]), np.array([class_names]))\n",
    "        )\n",
    "        xlabel_init = np.concatenate(\n",
    "            (['Predicted Label'], [None])\n",
    "        )\n",
    "        ylabel_init = np.concatenate(\n",
    "            (['True Label'], [None])\n",
    "        )\n",
    "        title_init = np.concatenate(\n",
    "            (['Unnormalized Confusion Matrix'], ['Model Evaluation'])\n",
    "        )\n",
    "\n",
    "        visualize_evaluation(matrix_init, \n",
    "                             index_names_init, \n",
    "                             column_names_init, \n",
    "                             xlabel_init, \n",
    "                             ylabel_init, \n",
    "                             title_init)\n",
    "\n",
    "        return (accuracy, result_evaluate.T)\n",
    "    finally:\n",
    "        print('Done evaluate')"
   ]
  },
  {
   "cell_type": "code",
   "execution_count": 3,
   "metadata": {
    "colab": {
     "base_uri": "https://localhost:8080/",
     "height": 387
    },
    "colab_type": "code",
    "id": "oSEibUTQMROH",
    "outputId": "1a636e26-9fde-422c-c01e-8fd5ecfff09d"
   },
   "outputs": [
    {
     "data": {
      "image/png": "[encoded data removed]",
      "text/plain": [
       "<Figure size 864x360 with 4 Axes>"
      ]
     },
     "metadata": {
      "needs_background": "light"
     },
     "output_type": "display_data"
    },
    {
     "name": "stdout",
     "output_type": "stream",
     "text": [
      "Done evaluate\n"
     ]
    }
   ],
   "source": [
    "# demo trên test data\n",
    "true_label_test = np.array([\n",
    "    0, 0, 0, 0, 1, 1, 1, 2, 2, 2\n",
    "])\n",
    "pred_label_test = np.array([\n",
    "    0, 1, 0, 2, 1, 1, 0, 2, 1, 2\n",
    "])\n",
    "\n",
    "# tạo test_data là mảng các tuple [(data, label), (data, label),...]\n",
    "test_data = np.array([\n",
    "    (pred_label, true_label) for pred_label, true_label in zip(pred_label_test, true_label_test)\n",
    "])\n",
    "\n",
    "accuracy, result_predict = model_evaluate(lambda data: data, test_data)"
   ]
  }
 ],
 "metadata": {
  "colab": {
   "authorship_tag": "ABX9TyOrM8ialV8AQe2YjcuyNIIS",
   "include_colab_link": true,
   "name": "Model Evaluate.ipynb",
   "provenance": []
  },
  "kernelspec": {
   "display_name": "Python 3.7.7",
   "language": "python",
   "name": "python3"
  },
  "language_info": {
   "codemirror_mode": {
    "name": "ipython",
    "version": 3
   },
   "file_extension": ".py",
   "mimetype": "text/x-python",
   "name": "python",
   "nbconvert_exporter": "python",
   "pygments_lexer": "ipython3",
   "version": "3.7.7"
  }
 },
 "nbformat": 4,
 "nbformat_minor": 1
}
